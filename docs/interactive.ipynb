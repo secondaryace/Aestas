{
 "cells": [
  {
   "cell_type": "markdown",
   "metadata": {
    "dotnet_interactive": {
     "language": "csharp"
    },
    "polyglot_notebook": {
     "kernelName": "csharp"
    }
   },
   "source": [
    "#### 交互式了解Aestas的使用方法"
   ]
  },
  {
   "cell_type": "markdown",
   "metadata": {},
   "source": [
    "逐条执行下面的代码块，了解Aestas的使用方法。\n",
    "在开始之前，确保.NET Interactive，pwsh已经安装\n",
    "\n",
    "pwsh可以用包管理器安装。在Windows上，请考虑使用\n",
    "```\n",
    "winget install Microsoft.PowerShell\n",
    "```"
   ]
  },
  {
   "cell_type": "code",
   "execution_count": 2,
   "metadata": {
    "dotnet_interactive": {
     "language": "pwsh"
    },
    "polyglot_notebook": {
     "kernelName": "pwsh"
    },
    "vscode": {
     "languageId": "polyglot-notebook"
    }
   },
   "outputs": [],
   "source": [
    "$aestasdoc = Get-Location\n",
    "$aestas = Split-Path -Path $aestasdoc\n",
    "$aestasdll = (Convert-Path ../bin/Release/net8.0).Replace(\"\\\", \"/\")"
   ]
  },
  {
   "cell_type": "markdown",
   "metadata": {
    "dotnet_interactive": {
     "language": "fsharp"
    },
    "polyglot_notebook": {
     "kernelName": "fsharp"
    },
    "vscode": {
     "languageId": "polyglot-notebook"
    }
   },
   "source": [
    "首先编译Aestas"
   ]
  },
  {
   "cell_type": "code",
   "execution_count": null,
   "metadata": {
    "dotnet_interactive": {
     "language": "pwsh"
    },
    "polyglot_notebook": {
     "kernelName": "pwsh"
    },
    "vscode": {
     "languageId": "polyglot-notebook"
    }
   },
   "outputs": [],
   "source": [
    "cd $aestas\n",
    "./aestas.ps1 build"
   ]
  },
  {
   "cell_type": "markdown",
   "metadata": {
    "vscode": {
     "languageId": "polyglot-notebook"
    }
   },
   "source": [
    "fsi并不支持相对路径，所以把获得的绝对路径保存到临时脚本中，让路径和这个notebook文件无关的同时还能加载Aestas"
   ]
  },
  {
   "cell_type": "code",
   "execution_count": 3,
   "metadata": {
    "dotnet_interactive": {
     "language": "pwsh"
    },
    "polyglot_notebook": {
     "kernelName": "pwsh"
    },
    "vscode": {
     "languageId": "polyglot-notebook"
    }
   },
   "outputs": [],
   "source": [
    "cd $aestasdoc\n",
    "\"#r `\"$aestasdll/Aestas.Core.dll`\"\n",
    "#r `\"$aestasdll/aestas.dll`\"\" | Out-File .load.fsx"
   ]
  },
  {
   "cell_type": "code",
   "execution_count": null,
   "metadata": {
    "dotnet_interactive": {
     "language": "fsharp"
    },
    "polyglot_notebook": {
     "kernelName": "fsharp"
    },
    "vscode": {
     "languageId": "polyglot-notebook"
    }
   },
   "outputs": [],
   "source": [
    "#r \"nuget:FSharpPlus\"\n",
    "#load \".load.fsx\"\n",
    "open FSharpPlus\n",
    "open Aestas\n",
    "open Aestas.Prim\n",
    "open Aestas.Core\n",
    "open Aestas.Core.Builtin\n",
    "open Aestas.Core.AestasBot\n",
    "open Aestas.Core.CommandExecuter"
   ]
  },
  {
   "cell_type": "markdown",
   "metadata": {},
   "source": [
    "创建Domain\n",
    "\n",
    "*VirtualDomain*是一个虚拟的Domain，我们借助它的接口和它绑定的Bot来交互"
   ]
  },
  {
   "cell_type": "code",
   "execution_count": 5,
   "metadata": {
    "dotnet_interactive": {
     "language": "fsharp"
    },
    "polyglot_notebook": {
     "kernelName": "fsharp"
    },
    "vscode": {
     "languageId": "polyglot-notebook"
    }
   },
   "outputs": [],
   "source": [
    "let botName = \"Vespera\"\n",
    "let chatHistory = arrList<string*(AestasContent list)>()\n",
    "let virtualDomain = VirtualDomain((fun mid contents -> chatHistory.Add(botName, contents)),\n",
    "    ignore, {\n",
    "        uid = 1u\n",
    "        name = botName\n",
    "    },{\n",
    "        uid = 0u\n",
    "        name = \"You\"\n",
    "    }, 0u, \"Test\", true)\n",
    "let sendToBot x = \n",
    "    let contents = [AestasText x]\n",
    "    chatHistory.Add(\"You\", contents)\n",
    "    match virtualDomain.Input contents |> Async.RunSynchronously with\n",
    "    | Ok (), _ -> chatHistory[max (chatHistory.Count-2) 0..].DisplayTable() |> ignore\n",
    "    | Error msg, _ -> printfn \"Error: %s\" msg"
   ]
  },
  {
   "cell_type": "markdown",
   "metadata": {},
   "source": [
    "编写一个最简单的“语言模型”代码，让Bot能够重复它的输入"
   ]
  },
  {
   "cell_type": "code",
   "execution_count": 6,
   "metadata": {
    "dotnet_interactive": {
     "language": "fsharp"
    },
    "polyglot_notebook": {
     "kernelName": "fsharp"
    },
    "vscode": {
     "languageId": "polyglot-notebook"
    }
   },
   "outputs": [],
   "source": [
    "type Repeater() =\n",
    "    interface ILanguageModelClient with\n",
    "        member _.GetReply bot domain = \n",
    "            async {\n",
    "                return chatHistory[^0] |> snd |> Ok, ignore\n",
    "            }\n",
    "        member _.CacheMessage bot domain message = ()\n",
    "        member _.CacheContents bot domain contents = ()\n",
    "        member _.ClearCache domain = ()\n",
    "        member _.RemoveCache domain messageID = ()"
   ]
  },
  {
   "cell_type": "markdown",
   "metadata": {},
   "source": [
    "创建一个Bot. 这次用的函数相比之前的教程更复杂，之后会解释参数的含义"
   ]
  },
  {
   "cell_type": "code",
   "execution_count": 8,
   "metadata": {
    "dotnet_interactive": {
     "language": "fsharp"
    },
    "polyglot_notebook": {
     "kernelName": "fsharp"
    },
    "vscode": {
     "languageId": "polyglot-notebook"
    }
   },
   "outputs": [],
   "source": [
    "let bot = createBot {|\n",
    "    name = botName\n",
    "    model = Repeater()\n",
    "    systemInstruction = Some \"\"\n",
    "    systemInstructionBuilder = None\n",
    "    friendStrategy = None\n",
    "    contentLoadStrategy = None\n",
    "    contentParseStrategy = None\n",
    "    messageReplyStrategy = Some StrategyReplyAll\n",
    "    messageCacheStrategy = Some StrategyCacheAll\n",
    "    contextStrategy = None\n",
    "    inputPrefixBuilder = None\n",
    "    userCommandPrivilege = None\n",
    "|}\n",
    "bindDomain bot virtualDomain"
   ]
  },
  {
   "cell_type": "markdown",
   "metadata": {},
   "source": [
    "在之后可以执行下面的单元格清除所有上下文，以便重新开始"
   ]
  },
  {
   "cell_type": "code",
   "execution_count": 9,
   "metadata": {
    "dotnet_interactive": {
     "language": "fsharp"
    },
    "polyglot_notebook": {
     "kernelName": "fsharp"
    },
    "vscode": {
     "languageId": "polyglot-notebook"
    }
   },
   "outputs": [],
   "source": [
    "bot.ClearCachedContext virtualDomain\n",
    "chatHistory.Clear()"
   ]
  },
  {
   "cell_type": "markdown",
   "metadata": {
    "vscode": {
     "languageId": "polyglot-notebook"
    }
   },
   "source": [
    "在之后可以执行下面的单元格来显示上下文"
   ]
  },
  {
   "cell_type": "code",
   "execution_count": null,
   "metadata": {
    "dotnet_interactive": {
     "language": "fsharp"
    },
    "polyglot_notebook": {
     "kernelName": "fsharp"
    },
    "vscode": {
     "languageId": "polyglot-notebook"
    }
   },
   "outputs": [],
   "source": [
    "chatHistory.DisplayTable()"
   ]
  },
  {
   "cell_type": "markdown",
   "metadata": {},
   "source": [
    "尝试发送第一条消息. 正常情况下，Bot会重复你的消息"
   ]
  },
  {
   "cell_type": "code",
   "execution_count": null,
   "metadata": {
    "dotnet_interactive": {
     "language": "fsharp"
    },
    "polyglot_notebook": {
     "kernelName": "fsharp"
    },
    "vscode": {
     "languageId": "polyglot-notebook"
    }
   },
   "outputs": [],
   "source": [
    "sendToBot \"Hello\""
   ]
  },
  {
   "cell_type": "markdown",
   "metadata": {},
   "source": [
    "为Bot添加指令系统"
   ]
  },
  {
   "cell_type": "code",
   "execution_count": null,
   "metadata": {
    "dotnet_interactive": {
     "language": "fsharp"
    },
    "polyglot_notebook": {
     "kernelName": "fsharp"
    },
    "vscode": {
     "languageId": "polyglot-notebook"
    }
   },
   "outputs": [],
   "source": [
    "addCommandExecuter bot \"/\" (makeExecuterWithBuiltinCommands [])\n",
    "bot.CommandExecuters"
   ]
  },
  {
   "cell_type": "markdown",
   "metadata": {},
   "source": [
    "尝试一条指令"
   ]
  },
  {
   "cell_type": "code",
   "execution_count": null,
   "metadata": {
    "dotnet_interactive": {
     "language": "fsharp"
    },
    "polyglot_notebook": {
     "kernelName": "fsharp"
    },
    "vscode": {
     "languageId": "polyglot-notebook"
    }
   },
   "outputs": [],
   "source": [
    "sendToBot \"/version\""
   ]
  },
  {
   "cell_type": "markdown",
   "metadata": {},
   "source": [
    "编写命令*add2*，把输入的两个数字相加并发送出来"
   ]
  },
  {
   "cell_type": "code",
   "execution_count": null,
   "metadata": {
    "dotnet_interactive": {
     "language": "fsharp"
    },
    "polyglot_notebook": {
     "kernelName": "fsharp"
    },
    "vscode": {
     "languageId": "polyglot-notebook"
    }
   },
   "outputs": [],
   "source": [
    "tryAddCommand bot.CommandExecuters[\"/\"] {\n",
    "    name = \"add2\"\n",
    "    description = \"Add two numbers\"\n",
    "    accessibleDomain = CommandAccessibleDomain.All\n",
    "    privilege = CommandPrivilege.Normal\n",
    "    execute = fun executer env args ->\n",
    "        match args with\n",
    "        | [|str0; str1|] ->\n",
    "            let i0, i1 = trySscanf \"%d\" str0, trySscanf \"%d\" str1\n",
    "            match i0, i1 with\n",
    "            | Some i0, Some i1 ->\n",
    "                i0 + i1 |> string |> env.log\n",
    "            | _ ->  env.log \"Invalid arguments\"\n",
    "        | _ -> env.log \"Invalid arguments\"\n",
    "} |> printfn \"%A\""
   ]
  },
  {
   "cell_type": "markdown",
   "metadata": {},
   "source": [
    "尝试刚才编写的指令"
   ]
  },
  {
   "cell_type": "code",
   "execution_count": null,
   "metadata": {
    "dotnet_interactive": {
     "language": "fsharp"
    },
    "polyglot_notebook": {
     "kernelName": "fsharp"
    },
    "vscode": {
     "languageId": "polyglot-notebook"
    }
   },
   "outputs": [],
   "source": [
    "sendToBot \"/add2 2 3\"\n",
    "sendToBot \"/add2 2\""
   ]
  },
  {
   "cell_type": "markdown",
   "metadata": {},
   "source": [
    "了解ContentParser. 首先，写一个会使用ContentParser的“语言模型”"
   ]
  },
  {
   "cell_type": "code",
   "execution_count": 17,
   "metadata": {
    "dotnet_interactive": {
     "language": "fsharp"
    },
    "polyglot_notebook": {
     "kernelName": "fsharp"
    },
    "vscode": {
     "languageId": "polyglot-notebook"
    }
   },
   "outputs": [],
   "source": [
    "type AlwaysBlank() =\n",
    "    interface ILanguageModelClient with\n",
    "        member _.GetReply bot domain =\n",
    "            async {\n",
    "                return \"#[blank]\" |> modelOutputParser bot domain |> Ok, ignore\n",
    "            }\n",
    "        member _.CacheMessage bot domain message = ()\n",
    "        member _.CacheContents bot domain contents = ()\n",
    "        member _.ClearCache domain = ()\n",
    "        member _.RemoveCache domain messageID = ()"
   ]
  },
  {
   "cell_type": "markdown",
   "metadata": {},
   "source": [
    "执行下面的代码，观察输出"
   ]
  },
  {
   "cell_type": "code",
   "execution_count": null,
   "metadata": {
    "dotnet_interactive": {
     "language": "fsharp"
    },
    "polyglot_notebook": {
     "kernelName": "fsharp"
    },
    "vscode": {
     "languageId": "polyglot-notebook"
    }
   },
   "outputs": [],
   "source": [
    "AlwaysBlank() |> bindModel bot\n",
    "sendToBot \"Hello\""
   ]
  },
  {
   "cell_type": "markdown",
   "metadata": {},
   "source": []
  },
  {
   "cell_type": "code",
   "execution_count": null,
   "metadata": {
    "dotnet_interactive": {
     "language": "fsharp"
    },
    "polyglot_notebook": {
     "kernelName": "fsharp"
    },
    "vscode": {
     "languageId": "polyglot-notebook"
    }
   },
   "outputs": [],
   "source": []
  }
 ],
 "metadata": {
  "kernelspec": {
   "display_name": ".NET (C#)",
   "language": "C#",
   "name": ".net-csharp"
  },
  "language_info": {
   "name": "python"
  },
  "polyglot_notebook": {
   "kernelInfo": {
    "defaultKernelName": "csharp",
    "items": [
     {
      "aliases": [],
      "name": "csharp"
     }
    ]
   }
  }
 },
 "nbformat": 4,
 "nbformat_minor": 2
}
