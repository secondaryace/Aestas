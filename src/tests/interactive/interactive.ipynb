{
 "cells": [
  {
   "cell_type": "code",
   "execution_count": null,
   "metadata": {
    "dotnet_interactive": {
     "language": "pwsh"
    },
    "polyglot_notebook": {
     "kernelName": "pwsh"
    },
    "vscode": {
     "languageId": "polyglot-notebook"
    }
   },
   "outputs": [],
   "source": [
    "cd ../../../\n",
    "./aestas.ps1 build"
   ]
  },
  {
   "cell_type": "code",
   "execution_count": 1,
   "metadata": {
    "dotnet_interactive": {
     "language": "fsharp"
    },
    "polyglot_notebook": {
     "kernelName": "fsharp"
    },
    "vscode": {
     "languageId": "polyglot-notebook"
    }
   },
   "outputs": [],
   "source": [
    "#load \"privateVar.fsx\"\n",
    "// use a individual file to store your private data, like:\n",
    "// #r \"C:\\\\Users\\\\YourUserName\\\\Source\\\\Aestas\\\\bin\\\\Debug\\\\net8.0\\\\aestas.dll\"\n",
    "// let geminiKey = \"Your Api Key\"\n",
    "// let name = \"Bot Name\"\n",
    "// let systemInstruction = \"Your System Instruction\"\n",
    "open PrivateVar\n",
    "open Aestas\n",
    "open Aestas.Prim\n",
    "open Aestas.Core\n",
    "open Aestas.Core.AestasBot\n",
    "open Aestas.AutoInit\n",
    "open Aestas.Llms.Gemini"
   ]
  },
  {
   "cell_type": "code",
   "execution_count": null,
   "metadata": {
    "dotnet_interactive": {
     "language": "fsharp"
    },
    "polyglot_notebook": {
     "kernelName": "fsharp"
    },
    "vscode": {
     "languageId": "polyglot-notebook"
    }
   },
   "outputs": [],
   "source": [
    "// open Aestas.Misc.SiliconFlow\n",
    "// let (Ok img) =\n",
    "//     textToImageMethod \n",
    "//         \"https://api.siliconflow.cn/v1/black-forest-labs/FLUX.1-schnell/text-to-image\" \n",
    "//         {key = \"key\"} \n",
    "//         {\n",
    "//             prompt = \"scenery of a beautiful village in the mountains\"\n",
    "//             negative = \"\"\n",
    "//             resolution = 1024, 1024\n",
    "//             seed = None\n",
    "//         }\n",
    "//     |> Async.RunSynchronously\n",
    "// DisplayExtensions.DisplayAs(Convert.ToBase64String img,\"image/png\")"
   ]
  },
  {
   "cell_type": "code",
   "execution_count": 2,
   "metadata": {
    "dotnet_interactive": {
     "language": "fsharp"
    },
    "polyglot_notebook": {
     "kernelName": "fsharp"
    },
    "vscode": {
     "languageId": "polyglot-notebook"
    }
   },
   "outputs": [],
   "source": [
    "open Aestas.Core.Builtin\n",
    "let mutable display = \"\"\n",
    "let virtualDomain = VirtualDomain((fun mid s -> display <- s.ToString()), ignore, {\n",
    "        uid = 1u\n",
    "        name = name\n",
    "    },{\n",
    "        uid = 0u\n",
    "        name = \"User\"\n",
    "    }, 0u, \"Test\", true)"
   ]
  },
  {
   "cell_type": "code",
   "execution_count": 3,
   "metadata": {
    "dotnet_interactive": {
     "language": "fsharp"
    },
    "polyglot_notebook": {
     "kernelName": "fsharp"
    },
    "vscode": {
     "languageId": "polyglot-notebook"
    }
   },
   "outputs": [],
   "source": [
    "\n",
    "// seq {InitTypes.Command} |> set |> AutoInit.init true\n",
    "let model = GeminiLlm({\n",
    "    apiKey = Some geminiKey\n",
    "    gcloudPath = None\n",
    "    safetySettings = [|\n",
    "        {category = \"HARM_CATEGORY_HARASSMENT\"; threshold = \"BLOCK_NONE\"}\n",
    "        {category = \"HARM_CATEGORY_HATE_SPEECH\"; threshold = \"BLOCK_NONE\"}\n",
    "        {category = \"HARM_CATEGORY_SEXUALLY_EXPLICIT\"; threshold = \"BLOCK_NONE\"}\n",
    "        {category = \"HARM_CATEGORY_DANGEROUS_CONTENT\"; threshold = \"BLOCK_NONE\"}\n",
    "    |]\n",
    "    generation_configs = {\n",
    "        defaultGenerationConfig with\n",
    "            temperature = Some 1.\n",
    "            maxLength = Some 4096\n",
    "            topK = Some 64\n",
    "            topP = Some 1.\n",
    "    } |> Some\n",
    "    }, \n",
    "    \"gemini-1.5-flash-exp-0827\")\n",
    "let bot = \n",
    "    createBot {|\n",
    "        name = name\n",
    "        model = model\n",
    "        systemInstruction = systemInstruction |> Some\n",
    "        systemInstructionBuilder = Builtin.buildSystemInstruction |> PipeLineChain |> Some\n",
    "        friendStrategy = StrategyFriendAll |> Some\n",
    "        contentLoadStrategy = StrategyLoadOnlyMentionedOrPrivate |> Some\n",
    "        contentParseStrategy = None\n",
    "        messageReplyStrategy = StrategyReplyOnlyMentionedOrPrivate |> Some\n",
    "        messageCacheStrategy = None\n",
    "        contextStrategy = StrategyContextTrimWhenExceedLength 300 |> Some\n",
    "        inputPrefixBuilder = Builtin.buildPrefix |> Some\n",
    "        userCommandPrivilege = None\n",
    "    |}\n",
    "bindModel bot model"
   ]
  },
  {
   "cell_type": "code",
   "execution_count": null,
   "metadata": {
    "dotnet_interactive": {
     "language": "fsharp"
    },
    "polyglot_notebook": {
     "kernelName": "fsharp"
    },
    "vscode": {
     "languageId": "polyglot-notebook"
    }
   },
   "outputs": [],
   "source": [
    "bindDomain bot virtualDomain\n",
    "virtualDomain.Bot"
   ]
  },
  {
   "cell_type": "code",
   "execution_count": null,
   "metadata": {
    "dotnet_interactive": {
     "language": "fsharp"
    },
    "polyglot_notebook": {
     "kernelName": "fsharp"
    },
    "vscode": {
     "languageId": "polyglot-notebook"
    }
   },
   "outputs": [],
   "source": [
    "bot.CommandExecuters.Keys"
   ]
  },
  {
   "cell_type": "code",
   "execution_count": null,
   "metadata": {
    "dotnet_interactive": {
     "language": "fsharp"
    },
    "polyglot_notebook": {
     "kernelName": "fsharp"
    },
    "vscode": {
     "languageId": "polyglot-notebook"
    }
   },
   "outputs": [],
   "source": [
    "virtualDomain.Input([AestasText \"\\\\gemini:help\"]) |> Async.RunSynchronously |> ignore\n",
    "printfn \"[%s]\" display\n",
    "printfn \"|%A\" virtualDomain.Messages"
   ]
  },
  {
   "cell_type": "code",
   "execution_count": null,
   "metadata": {
    "dotnet_interactive": {
     "language": "fsharp"
    },
    "polyglot_notebook": {
     "kernelName": "fsharp"
    },
    "vscode": {
     "languageId": "polyglot-notebook"
    }
   },
   "outputs": [],
   "source": [
    "virtualDomain.Input([AestasText \"hello\"]) |> Async.RunSynchronously |> ignore\n",
    "printfn \"[%s]\" display\n",
    "printfn \"|%A\" virtualDomain.Messages"
   ]
  },
  {
   "cell_type": "code",
   "execution_count": null,
   "metadata": {
    "dotnet_interactive": {
     "language": "fsharp"
    },
    "polyglot_notebook": {
     "kernelName": "fsharp"
    },
    "vscode": {
     "languageId": "polyglot-notebook"
    }
   },
   "outputs": [],
   "source": [
    "virtualDomain.Input([AestasText \"\\\\gemini:dump\"]) |> Async.RunSynchronously |> ignore\n",
    "printfn \"[%s]\" display\n",
    "printfn \"|%A\" virtualDomain.Messages"
   ]
  },
  {
   "cell_type": "code",
   "execution_count": 3,
   "metadata": {
    "dotnet_interactive": {
     "language": "fsharp"
    },
    "polyglot_notebook": {
     "kernelName": "fsharp"
    },
    "vscode": {
     "languageId": "polyglot-notebook"
    }
   },
   "outputs": [],
   "source": [
    "let t = \"a\""
   ]
  },
  {
   "cell_type": "code",
   "execution_count": 9,
   "metadata": {
    "dotnet_interactive": {
     "language": "fsharp"
    },
    "polyglot_notebook": {
     "kernelName": "fsharp"
    },
    "vscode": {
     "languageId": "polyglot-notebook"
    }
   },
   "outputs": [],
   "source": [
    "bot.ClearCachedContext virtualDomain"
   ]
  },
  {
   "cell_type": "code",
   "execution_count": null,
   "metadata": {
    "dotnet_interactive": {
     "language": "fsharp"
    },
    "polyglot_notebook": {
     "kernelName": "fsharp"
    },
    "vscode": {
     "languageId": "polyglot-notebook"
    }
   },
   "outputs": [],
   "source": [
    "Logger.getLogs(0) |> Seq.iter (fun x -> printfn \"%A\" x)"
   ]
  }
 ],
 "metadata": {
  "kernelspec": {
   "display_name": ".NET (C#)",
   "language": "C#",
   "name": ".net-csharp"
  },
  "language_info": {
   "name": "python"
  },
  "polyglot_notebook": {
   "kernelInfo": {
    "defaultKernelName": "csharp",
    "items": [
     {
      "aliases": [],
      "name": "csharp"
     }
    ]
   }
  }
 },
 "nbformat": 4,
 "nbformat_minor": 2
}
