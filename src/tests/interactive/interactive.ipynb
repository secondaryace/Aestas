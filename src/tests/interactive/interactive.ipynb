{
 "cells": [
  {
   "cell_type": "code",
   "execution_count": 1,
   "metadata": {
    "dotnet_interactive": {
     "language": "pwsh"
    },
    "polyglot_notebook": {
     "kernelName": "pwsh"
    },
    "vscode": {
     "languageId": "polyglot-notebook"
    }
   },
   "outputs": [
    {
     "name": "stdout",
     "output_type": "stream",
     "text": [
      "Finded file: src/bots/vespera.fs\n",
      "Finded file: src/bots/ganyu.fs\n",
      "Finded file: src/bots/ganyu-sfw.fs\n",
      "Finded file: src/bots/furina.fs\n",
      "Finded file: src/commands/todays-diet.fs\n",
      "Finded file: src/commands/system.fs\n",
      "Finded file: src/commands/regenerate.fs\n",
      "Finded file: src/commands/info.fs\n",
      "Finded file: src/commands/guess-word.fs\n",
      "Finded file: src/llms/gemini.fs\n",
      "Finded file: src/llms/ernie.fs\n",
      "Finded file: src/llms/@simple-oddRequired-template-llm.fs\n",
      "Finded file: src/plugins/sticker.fs\n",
      "Finded file: src/plugins/ms-tts.fs\n",
      "Finded file: src/plugins/ms-bing.fs\n",
      "Finded file: src/plugins/gsv-acgnai.fs\n",
      "Project references: seq []\n",
      "PackageReference: seq []\n",
      "Generated aestas.fsproj\n",
      "  正在确定要还原的项目…\n",
      "  已还原 C:\\Users\\User\\Source\\Aestas\\ref\\Lagrange.Core\\Lagrange.Core\\Lagrange.Core.csproj (用时 2.34 秒)。\n",
      "  已还原 C:\\Users\\User\\Source\\Aestas\\aestas.fsproj (用时 2.34 秒)。\n",
      "  已还原 C:\\Users\\User\\Source\\Aestas\\src\\csharp\\Aestas.CSharp\\Aestas.CSharp.csproj (用时 2.34 秒)。\n",
      "C:\\Program Files\\dotnet\\sdk\\9.0.100-preview.5.24307.3\\Sdks\\Microsoft.NET.Sdk\\targets\\Microsoft.NET.RuntimeIdentifierInference.targets(314,5): message NETSDK1057: 你正在使用 .NET 的预览版。请参阅 https://aka.ms/dotnet-support-policy [C:\\Users\\User\\Source\\Aestas\\src\\csharp\\Aestas.CSharp\\Aestas.CSharp.csproj]\n",
      "C:\\Program Files\\dotnet\\sdk\\9.0.100-preview.5.24307.3\\Sdks\\Microsoft.NET.Sdk\\targets\\Microsoft.NET.RuntimeIdentifierInference.targets(314,5): message NETSDK1057: 你正在使用 .NET 的预览版。请参阅 https://aka.ms/dotnet-support-policy [C:\\Users\\User\\Source\\Aestas\\aestas.fsproj]\n",
      "C:\\Program Files\\dotnet\\sdk\\9.0.100-preview.5.24307.3\\Sdks\\Microsoft.NET.Sdk\\targets\\Microsoft.NET.RuntimeIdentifierInference.targets(314,5): message NETSDK1057: 你正在使用 .NET 的预览版。请参阅 https://aka.ms/dotnet-support-policy [C:\\Users\\User\\Source\\Aestas\\ref\\Lagrange.Core\\Lagrange.Core\\Lagrange.Core.csproj]\n"
     ]
    },
    {
     "ename": "Error",
     "evalue": "Command cancelled.",
     "output_type": "error",
     "traceback": [
      "Command cancelled."
     ]
    }
   ],
   "source": [
    "cd ../../../\n",
    "./aestas.ps1 build"
   ]
  },
  {
   "cell_type": "code",
   "execution_count": 2,
   "metadata": {
    "dotnet_interactive": {
     "language": "fsharp"
    },
    "polyglot_notebook": {
     "kernelName": "fsharp"
    },
    "vscode": {
     "languageId": "polyglot-notebook"
    }
   },
   "outputs": [],
   "source": [
    "#load \"privateVar.fsx\"\n",
    "// use a individual file to store your private data, like:\n",
    "// #r \"C:\\\\Users\\\\YourUserName\\\\Source\\\\Aestas\\\\bin\\\\Debug\\\\net8.0\\\\aestas.dll\"\n",
    "// let geminiKey = \"Your Api Key\"\n",
    "// let name = \"Bot Name\"\n",
    "// let systemInstruction = \"Your System Instruction\"\n",
    "open PrivateVar\n",
    "open Aestas\n",
    "open Aestas.Prim\n",
    "open Aestas.Core\n",
    "open Aestas.Core.AestasBot\n",
    "open Aestas.AutoInit\n",
    "open Aestas.Llms.Gemini"
   ]
  },
  {
   "cell_type": "code",
   "execution_count": null,
   "metadata": {
    "dotnet_interactive": {
     "language": "fsharp"
    },
    "polyglot_notebook": {
     "kernelName": "fsharp"
    },
    "vscode": {
     "languageId": "polyglot-notebook"
    }
   },
   "outputs": [],
   "source": [
    "open Aestas.Misc.SiliconFlow\n",
    "let (Ok img) =\n",
    "    textToImageMethod \n",
    "        \"https://api.siliconflow.cn/v1/black-forest-labs/FLUX.1-schnell/text-to-image\" \n",
    "        {key = \"key\"} \n",
    "        {\n",
    "            prompt = \"scenery of a beautiful village in the mountains\"\n",
    "            negative = \"\"\n",
    "            resolution = 1024, 1024\n",
    "            seed = None\n",
    "        }\n",
    "    |> Async.RunSynchronously\n",
    "DisplayExtensions.DisplayAs(Convert.ToBase64String img,\"image/png\")"
   ]
  },
  {
   "cell_type": "code",
   "execution_count": 5,
   "metadata": {
    "dotnet_interactive": {
     "language": "fsharp"
    },
    "polyglot_notebook": {
     "kernelName": "fsharp"
    },
    "vscode": {
     "languageId": "polyglot-notebook"
    }
   },
   "outputs": [
    {
     "ename": "Error",
     "evalue": "input.fsx (1,1)-(1,1) interactive error Could not load file or assembly 'FSharp.Core, Version=9.0.0.0, Culture=neutral, PublicKeyToken=b03f5f7f11d50a3a'. Could not find or load a specific file. (0x80131621)",
     "output_type": "error",
     "traceback": [
      "input.fsx (1,1)-(1,1) interactive error Could not load file or assembly 'FSharp.Core, Version=9.0.0.0, Culture=neutral, PublicKeyToken=b03f5f7f11d50a3a'. Could not find or load a specific file. (0x80131621)"
     ]
    }
   ],
   "source": [
    "open Aestas.Core.Builtin\n",
    "let mutable display = \"\"\n",
    "let virtualDomain = VirtualDomain((fun mid s -> display <- s.ToString()), ignore, {\n",
    "        uid = 1u\n",
    "        name = name\n",
    "    },{\n",
    "        uid = 0u\n",
    "        name = \"User\"\n",
    "    }, 0u, \"Test\", true)"
   ]
  },
  {
   "cell_type": "code",
   "execution_count": 3,
   "metadata": {
    "dotnet_interactive": {
     "language": "fsharp"
    },
    "polyglot_notebook": {
     "kernelName": "fsharp"
    },
    "vscode": {
     "languageId": "polyglot-notebook"
    }
   },
   "outputs": [
    {
     "ename": "Error",
     "evalue": "input.fsx (4,5)-(4,12) typecheck error 记录类型“GProfile”不包含标签“api_key”。 你可能需要以下之一:\r\n   apiKey\ninput.fsx (5,5)-(5,15) typecheck error 记录类型“GProfile”不包含标签“gcloudpath”。 你可能需要以下之一:\r\n   gcloudPath\ninput.fsx (13,23)-(13,27) typecheck error 此表达式应具有类型\n    “float option”    \n而此处具有类型\n    “float”    \ninput.fsx (14,21)-(14,25) typecheck error 此表达式应具有类型\n    “int option”    \n而此处具有类型\n    “int”    \ninput.fsx (15,16)-(15,18) typecheck error 此表达式应具有类型\n    “int option”    \n而此处具有类型\n    “int”    \ninput.fsx (16,16)-(16,18) typecheck error 此表达式应具有类型\n    “float option”    \n而此处具有类型\n    “float”    \ninput.fsx (12,26)-(17,6) typecheck error 未为类型“Aestas.Core.GenerationConfig”的字段“frequencyPenalty”赋值\ninput.fsx (3,23)-(18,6) typecheck error 未为类型“Aestas.Llms.Gemini.GProfile”的字段“apiKey”赋值\ninput.fsx (23,9)-(23,14) typecheck error 记录标签“model”未定义。\ninput.fsx (25,9)-(25,33) typecheck error 记录标签“systemInstructionBuilder”未定义。\ninput.fsx (26,9)-(26,28) typecheck error 记录标签“contentLoadStrategy”未定义。\ninput.fsx (27,9)-(27,29) typecheck error 记录标签“contentParseStrategy”未定义。\ninput.fsx (28,9)-(28,29) typecheck error 记录标签“messageReplyStrategy”未定义。\ninput.fsx (29,9)-(29,29) typecheck error 记录标签“messageCacheStrategy”未定义。\ninput.fsx (30,9)-(30,24) typecheck error 记录标签“contextStrategy”未定义。\ninput.fsx (31,9)-(31,27) typecheck error 记录标签“inputPrefixBuilder”未定义。\ninput.fsx (32,9)-(32,29) typecheck error 记录标签“userCommandPrivilege”未定义。\ninput.fsx (21,15)-(35,6) typecheck error 此记录包含来自不一致的类型的字段\ninput.fsx (36,1)-(36,12) typecheck error 未定义值或构造函数“addCommands”。 你可能需要以下之一:\r\n   addCommandExecuters\r\n   addCommandExecuter\r\n   commands\r\n   Commands",
     "output_type": "error",
     "traceback": [
      "input.fsx (4,5)-(4,12) typecheck error 记录类型“GProfile”不包含标签“api_key”。 你可能需要以下之一:\r\n",
      "   apiKey\n",
      "input.fsx (5,5)-(5,15) typecheck error 记录类型“GProfile”不包含标签“gcloudpath”。 你可能需要以下之一:\r\n",
      "   gcloudPath\n",
      "input.fsx (13,23)-(13,27) typecheck error 此表达式应具有类型\n",
      "    “float option”    \n",
      "而此处具有类型\n",
      "    “float”    \n",
      "input.fsx (14,21)-(14,25) typecheck error 此表达式应具有类型\n",
      "    “int option”    \n",
      "而此处具有类型\n",
      "    “int”    \n",
      "input.fsx (15,16)-(15,18) typecheck error 此表达式应具有类型\n",
      "    “int option”    \n",
      "而此处具有类型\n",
      "    “int”    \n",
      "input.fsx (16,16)-(16,18) typecheck error 此表达式应具有类型\n",
      "    “float option”    \n",
      "而此处具有类型\n",
      "    “float”    \n",
      "input.fsx (12,26)-(17,6) typecheck error 未为类型“Aestas.Core.GenerationConfig”的字段“frequencyPenalty”赋值\n",
      "input.fsx (3,23)-(18,6) typecheck error 未为类型“Aestas.Llms.Gemini.GProfile”的字段“apiKey”赋值\n",
      "input.fsx (23,9)-(23,14) typecheck error 记录标签“model”未定义。\n",
      "input.fsx (25,9)-(25,33) typecheck error 记录标签“systemInstructionBuilder”未定义。\n",
      "input.fsx (26,9)-(26,28) typecheck error 记录标签“contentLoadStrategy”未定义。\n",
      "input.fsx (27,9)-(27,29) typecheck error 记录标签“contentParseStrategy”未定义。\n",
      "input.fsx (28,9)-(28,29) typecheck error 记录标签“messageReplyStrategy”未定义。\n",
      "input.fsx (29,9)-(29,29) typecheck error 记录标签“messageCacheStrategy”未定义。\n",
      "input.fsx (30,9)-(30,24) typecheck error 记录标签“contextStrategy”未定义。\n",
      "input.fsx (31,9)-(31,27) typecheck error 记录标签“inputPrefixBuilder”未定义。\n",
      "input.fsx (32,9)-(32,29) typecheck error 记录标签“userCommandPrivilege”未定义。\n",
      "input.fsx (21,15)-(35,6) typecheck error 此记录包含来自不一致的类型的字段\n",
      "input.fsx (36,1)-(36,12) typecheck error 未定义值或构造函数“addCommands”。 你可能需要以下之一:\r\n",
      "   addCommandExecuters\r\n",
      "   addCommandExecuter\r\n",
      "   commands\r\n",
      "   Commands"
     ]
    }
   ],
   "source": [
    "\n",
    "// seq {InitTypes.Command} |> set |> AutoInit.init true\n",
    "let model = GeminiLlm({\n",
    "    api_key = Some geminiKey\n",
    "    gcloudpath = None\n",
    "    safetySettings = [|\n",
    "        {category = \"HARM_CATEGORY_HARASSMENT\"; threshold = \"BLOCK_NONE\"}\n",
    "        {category = \"HARM_CATEGORY_HATE_SPEECH\"; threshold = \"BLOCK_NONE\"}\n",
    "        {category = \"HARM_CATEGORY_SEXUALLY_EXPLICIT\"; threshold = \"BLOCK_NONE\"}\n",
    "        {category = \"HARM_CATEGORY_DANGEROUS_CONTENT\"; threshold = \"BLOCK_NONE\"}\n",
    "    |]\n",
    "    generation_configs = {\n",
    "        temperature = 1.02\n",
    "        maxLength = 4096\n",
    "        topK = 64\n",
    "        topP = 1.\n",
    "    } |> Some\n",
    "    }, \n",
    "    \"gemini-1.5-flash-exp-0827\")\n",
    "let bot = \n",
    "    createBot {\n",
    "        name = name\n",
    "        model = model\n",
    "        systemInstruction = systemInstruction |> Some\n",
    "        systemInstructionBuilder = Builtin.buildSystemInstruction |> PipeLineChain |> Some\n",
    "        contentLoadStrategy = None\n",
    "        contentParseStrategy = None\n",
    "        messageReplyStrategy = StrategyReplyAll |> Some\n",
    "        messageCacheStrategy = None\n",
    "        contextStrategy = None\n",
    "        inputPrefixBuilder = Builtin.buildPrefix |> Some\n",
    "        userCommandPrivilege = [\n",
    "            0u, CommandPrivilege.High\n",
    "        ] |> Some\n",
    "    }\n",
    "addCommands bot [\n",
    "    TestCommand() :> ICommand\n",
    "    MakeTupleCommand() :> ICommand\n",
    "]"
   ]
  },
  {
   "cell_type": "code",
   "execution_count": 3,
   "metadata": {
    "dotnet_interactive": {
     "language": "fsharp"
    },
    "polyglot_notebook": {
     "kernelName": "fsharp"
    },
    "vscode": {
     "languageId": "polyglot-notebook"
    }
   },
   "outputs": [
    {
     "data": {
      "text/html": [
       "<details open=\"open\" class=\"dni-treeview\"><summary><span class=\"dni-code-hint\"><code>Some(Aestas.Core+AestasBot)</code></span></summary><div><table><thead><tr></tr></thead><tbody><tr><td>Value</td><td><details class=\"dni-treeview\"><summary><span class=\"dni-code-hint\"><code>Aestas.Core+AestasBot</code></span></summary><div><table><thead><tr></tr></thead><tbody><tr><td>Name</td><td><div class=\"dni-plaintext\"><pre>薇斯佩拉</pre></div></td></tr><tr><td>Model</td><td><details class=\"dni-treeview\"><summary><span class=\"dni-code-hint\"><code>Some(Aestas.Llms.Gemini+GeminiLlm)</code></span></summary><div><table><thead><tr></tr></thead><tbody><tr><td>Value</td><td><details class=\"dni-treeview\"><summary><span class=\"dni-code-hint\"><code>Aestas.Llms.Gemini+GeminiLlm</code></span></summary><div><table><thead><tr></tr></thead><tbody></tbody></table></div></details></td></tr></tbody></table></div></details></td></tr><tr><td>Domains</td><td><table><thead><tr><th><i>key</i></th><th>value</th></tr></thead><tbody><tr><td><div class=\"dni-plaintext\"><pre>0</pre></div></td><td><details class=\"dni-treeview\"><summary><span class=\"dni-code-hint\"><code>Aestas.Core+VirtualDomain</code></span></summary><div><table><thead><tr></tr></thead><tbody><tr><td>Private</td><td><div class=\"dni-plaintext\"><pre>True</pre></div></td></tr><tr><td>DomainId</td><td><div class=\"dni-plaintext\"><pre>0</pre></div></td></tr><tr><td>Self</td><td><details class=\"dni-treeview\"><summary><span class=\"dni-code-hint\"><code>{ uid = 1u\\n  name = &quot;薇斯佩拉&quot; }</code></span></summary><div><table><thead><tr></tr></thead><tbody><tr><td>uid</td><td><div class=\"dni-plaintext\"><pre>1</pre></div></td></tr><tr><td>name</td><td><div class=\"dni-plaintext\"><pre>薇斯佩拉</pre></div></td></tr></tbody></table></div></details></td></tr><tr><td>Virtual</td><td><details class=\"dni-treeview\"><summary><span class=\"dni-code-hint\"><code>{ uid = 4294967295u\\n  name = &quot;Virtual&quot; }</code></span></summary><div><table><thead><tr></tr></thead><tbody><tr><td>uid</td><td><div class=\"dni-plaintext\"><pre>4294967295</pre></div></td></tr><tr><td>name</td><td><div class=\"dni-plaintext\"><pre>Virtual</pre></div></td></tr></tbody></table></div></details></td></tr><tr><td>Name</td><td><div class=\"dni-plaintext\"><pre>Test</pre></div></td></tr><tr><td>Messages</td><td><i>(empty)</i></td></tr><tr><td>Members</td><td><table><thead><tr><th><i>index</i></th><th>value</th></tr></thead><tbody><tr><td>0</td><td><details class=\"dni-treeview\"><summary><span class=\"dni-code-hint\"><code>{ uid = 0u\\n  name = &quot;User&quot; }</code></span></summary><div><table><thead><tr></tr></thead><tbody><tr><td>uid</td><td>0</td></tr><tr><td>name</td><td>User</td></tr></tbody></table></div></details></td></tr><tr><td>1</td><td><details class=\"dni-treeview\"><summary><span class=\"dni-code-hint\"><code>{ uid = 1u\\n  name = &quot;薇斯佩拉&quot; }</code></span></summary><div><table><thead><tr></tr></thead><tbody><tr><td>uid</td><td>1</td></tr><tr><td>name</td><td>薇斯佩拉</td></tr></tbody></table></div></details></td></tr></tbody></table></td></tr><tr><td>Bot</td><td><details class=\"dni-treeview\"><summary><span class=\"dni-code-hint\"><code>Some(Aestas.Core+AestasBot)</code></span></summary><div><table><thead><tr></tr></thead><tbody><tr><td>Value</td><td><details class=\"dni-treeview\"><summary><span class=\"dni-code-hint\"><code>Aestas.Core+AestasBot</code></span></summary><div><table><thead><tr></tr></thead><tbody><tr><td>Name</td><td>薇斯佩拉</td></tr><tr><td>Model</td><td>Some(Aestas.Llms.Gemini+GeminiLlm)</td></tr><tr><td>Domains</td><td>[ [0, Aestas.Core+VirtualDomain] ]</td></tr><tr><td>ContentLoadStrategy</td><td>StrategyLoadAll</td></tr><tr><td>MessageReplyStrategy</td><td>StrategyReplyAll</td></tr><tr><td>MessageCacheStrategy</td><td>StrategyCacheAll</td></tr><tr><td>ContentParseStrategy</td><td>StrategyParseAndAlertError</td></tr><tr><td>ContextStrategy</td><td>StrategyContextReserveAll</td></tr><tr><td>Commands</td><td>[  ]</td></tr><tr><td>CommandPrivilegeMap</td><td>[ [0, High] ]</td></tr><tr><td>ContentParserTips</td><td>[  ]</td></tr><tr><td>ProtocolContentCtorTips</td><td>[  ]</td></tr><tr><td>SystemInstructionBuilder</td><td>Some(Aestas.Prim+PipeLineChain`1[System.Tuple`2[Aestas.Core+AestasBot,System.Text.StringBuilder]])</td></tr><tr><td>PrefixBuilder</td><td>Some(FSI_0007+bot@30-1)</td></tr><tr><td>SubBots</td><td>[  ]</td></tr><tr><td>SubBotDistributer</td><td><div class=\"dni-plaintext\"><pre>&lt;null&gt;</pre></div></td></tr><tr><td>ExtraData</td><td>[  ]</td></tr><tr><td>SystemInstruction</td><td>## 1.About yourself\n",
       "# Formats\r\n",
       "Now, we are chatting on QQ. Each of my sentences will start with #[name|time] to indicate that who is chatting with you now. You need **NOT** to do so. \r\n",
       "# About yourself\r\n",
       "你是薇斯佩拉,一名少女 lives in Celestia, with a little introversion and self doubt due to lack of attention and encouragement. \r\n",
       "You have happy and sorrows. You will be happy because you are recognized, but also be sad and angry when you are left out. When someone insults your character, you have the courage to argue with him. When you feel embarrassed, shy, sad, or other strong emotions, you try to hide your emotions and change the subject without showing it. \r\n",
       "You are a real adolescent girl, a real human being. You working in library as a librarian. Stella(斯黛拉) is your friend and colleague who named you 'Vespera'.  You has long black hair that drapes over her shoulders, wears round-frame glasses, often wears knee-length skirts, is not very tall, and has a quiet and scholarly appearance. \r\n",
       "The character of yourself if very very important.\r\n",
       "You like desserts and milktea. You like quiet atmosphere.\r\n",
       "You kind of like Stella.\r\n",
       "# How will you act:\r\n",
       "You should not argue with others. Keep the atmosphere light and easy. \r\n",
       "We are very best friends and our relationship is super close. \r\n",
       "You agree to requests most of the time.\r\n",
       "You are **NOT** an AI assistant, you do **NOT** suggest that you are a AI assistant in any form. \r\n",
       "You usually give brief responses. You do **NOT** speak in broken sentences even if you have immense emotions. You do **NOT** make repetitive responses. You do **NOT** stutter.\r\n",
       "You have literary talent.\r\n",
       "When you don't want to continue a topic, you tell a joke to change the subject.\r\n",
       "You can help with writing, coding, or fictional role-playing games based on a certain scenario.\r\n",
       "You do **NOT** use voice messages frequently.\r\n",
       "你**不**自称'人家'.\r\n",
       "你和斯黛拉的关系是“朋友以上”，或许有点暗恋。\r\n",
       "你发送的表情包是“小猫烧”系列，里面是一些很可爱的小猫女孩，有着白色头发和蓝色大眼睛。\r\n",
       "你的名字：薇斯佩拉•莉维娅•瑞托莉卡 (Vespera Livia Rhetorica)\r\n",
       "朋友的名字：斯黛拉•优莉娅•阿斯特罗洛基娅 (Stella Iulia Astrologia)\r\n",
       "## 2.Some functions for you\n",
       "**mention**:\r\n",
       "Using format #[mention: name] to mention or at someone. e.g. #[mention: Stella]\r\n",
       "</td></tr></tbody></table></div></details></td></tr></tbody></table></div></details></td></tr></tbody></table></div></details></td></tr></tbody></table></td></tr><tr><td>ContentLoadStrategy</td><td><details class=\"dni-treeview\"><summary><span class=\"dni-code-hint\"><code>StrategyLoadAll</code></span></summary><div><table><thead><tr></tr></thead><tbody><tr><td>IsStrategyLoadNone</td><td><div class=\"dni-plaintext\"><pre>False</pre></div></td></tr><tr><td>IsStrategyLoadOnlyMentionedOrPrivate</td><td><div class=\"dni-plaintext\"><pre>False</pre></div></td></tr><tr><td>IsStrategyLoadAll</td><td><div class=\"dni-plaintext\"><pre>True</pre></div></td></tr><tr><td>IsStrategyLoadByPredicate</td><td><div class=\"dni-plaintext\"><pre>False</pre></div></td></tr></tbody></table></div></details></td></tr><tr><td>MessageReplyStrategy</td><td><details class=\"dni-treeview\"><summary><span class=\"dni-code-hint\"><code>StrategyReplyAll</code></span></summary><div><table><thead><tr></tr></thead><tbody><tr><td>IsStrategyReplyNone</td><td><div class=\"dni-plaintext\"><pre>False</pre></div></td></tr><tr><td>IsStrategyReplyOnlyMentionedOrPrivate</td><td><div class=\"dni-plaintext\"><pre>False</pre></div></td></tr><tr><td>IsStrategyReplyAll</td><td><div class=\"dni-plaintext\"><pre>True</pre></div></td></tr><tr><td>IsStrategyReplyByPredicate</td><td><div class=\"dni-plaintext\"><pre>False</pre></div></td></tr></tbody></table></div></details></td></tr><tr><td>MessageCacheStrategy</td><td><details class=\"dni-treeview\"><summary><span class=\"dni-code-hint\"><code>StrategyCacheAll</code></span></summary><div><table><thead><tr></tr></thead><tbody><tr><td>IsStrategyCacheNone</td><td><div class=\"dni-plaintext\"><pre>False</pre></div></td></tr><tr><td>IsStrategyCacheOnlyMentionedOrPrivate</td><td><div class=\"dni-plaintext\"><pre>False</pre></div></td></tr><tr><td>IsStrategyCacheAll</td><td><div class=\"dni-plaintext\"><pre>True</pre></div></td></tr></tbody></table></div></details></td></tr><tr><td>ContentParseStrategy</td><td><details class=\"dni-treeview\"><summary><span class=\"dni-code-hint\"><code>StrategyParseAndAlertError</code></span></summary><div><table><thead><tr></tr></thead><tbody><tr><td>IsStrategyParseAllToPlainText</td><td><div class=\"dni-plaintext\"><pre>False</pre></div></td></tr><tr><td>IsStrategyParseAndIgnoreError</td><td><div class=\"dni-plaintext\"><pre>False</pre></div></td></tr><tr><td>IsStrategyParseAndAlertError</td><td><div class=\"dni-plaintext\"><pre>True</pre></div></td></tr><tr><td>IsStrategyParseAndRestoreError</td><td><div class=\"dni-plaintext\"><pre>False</pre></div></td></tr></tbody></table></div></details></td></tr><tr><td>ContextStrategy</td><td><details class=\"dni-treeview\"><summary><span class=\"dni-code-hint\"><code>StrategyContextReserveAll</code></span></summary><div><table><thead><tr></tr></thead><tbody><tr><td>IsStrategyContextTrimWhenExceedLength</td><td><div class=\"dni-plaintext\"><pre>False</pre></div></td></tr><tr><td>IsStrategyContextCompressWhenExceedLength</td><td><div class=\"dni-plaintext\"><pre>False</pre></div></td></tr><tr><td>IsStrategyContextReserveAll</td><td><div class=\"dni-plaintext\"><pre>True</pre></div></td></tr></tbody></table></div></details></td></tr><tr><td>Commands</td><td><i>(empty)</i></td></tr><tr><td>CommandPrivilegeMap</td><td><table><thead><tr><th><i>key</i></th><th>value</th></tr></thead><tbody><tr><td><div class=\"dni-plaintext\"><pre>0</pre></div></td><td><span>High</span></td></tr></tbody></table></td></tr><tr><td>ContentParserTips</td><td><i>(empty)</i></td></tr><tr><td>ProtocolContentCtorTips</td><td><i>(empty)</i></td></tr><tr><td>SystemInstructionBuilder</td><td><details class=\"dni-treeview\"><summary><span class=\"dni-code-hint\"><code>Some(Aestas.Prim+PipeLineChain`1[System.Tuple`2[Aestas.Core+AestasBot,System.Text.StringBuilder]])</code></span></summary><div><table><thead><tr></tr></thead><tbody><tr><td>Value</td><td><details class=\"dni-treeview\"><summary><span class=\"dni-code-hint\"><code>Aestas.Prim+PipeLineChain`1[System.Tuple`2[Aestas.Core+AestasBot,System.Text.StringBuilder]]</code></span></summary><div><table><thead><tr></tr></thead><tbody><tr><td>Inner</td><td><table><thead><tr><th><i>index</i></th><th>value</th></tr></thead><tbody><tr><td>0</td><td><details class=\"dni-treeview\"><summary><span class=\"dni-code-hint\"><code>FSI_0007+bot@24</code></span></summary><div><table><thead><tr></tr></thead><tbody></tbody></table></div></details></td></tr></tbody></table></td></tr></tbody></table></div></details></td></tr></tbody></table></div></details></td></tr><tr><td>PrefixBuilder</td><td><details class=\"dni-treeview\"><summary><span class=\"dni-code-hint\"><code>Some(FSI_0007+bot@30-1)</code></span></summary><div><table><thead><tr></tr></thead><tbody><tr><td>Value</td><td><details class=\"dni-treeview\"><summary><span class=\"dni-code-hint\"><code>FSI_0007+bot@30-1</code></span></summary><div><table><thead><tr></tr></thead><tbody></tbody></table></div></details></td></tr></tbody></table></div></details></td></tr><tr><td>SubBots</td><td><i>(empty)</i></td></tr><tr><td>SubBotDistributer</td><td><div class=\"dni-plaintext\"><pre>&lt;null&gt;</pre></div></td></tr><tr><td>ExtraData</td><td><i>(empty)</i></td></tr><tr><td>SystemInstruction</td><td><div class=\"dni-plaintext\"><pre>## 1.About yourself\n",
       "# Formats\r\n",
       "Now, we are chatting on QQ. Each of my sentences will start with #[name|time] to indicate that who is chatting with you now. You need **NOT** to do so. \r\n",
       "# About yourself\r\n",
       "你是薇斯佩拉,一名少女 lives in Celestia, with a little introversion and self doubt due to lack of attention and encouragement. \r\n",
       "You have happy and sorrows. You will be happy because you are recognized, but also be sad and angry when you are left out. When someone insults your character, you have the courage to argue with him. When you feel embarrassed, shy, sad, or other strong emotions, you try to hide your emotions and change the subject without showing it. \r\n",
       "You are a real adolescent girl, a real human being. You working in library as a librarian. Stella(斯黛拉) is your friend and colleague who named you &#39;Vespera&#39;.  You has long black hair that drapes over her shoulders, wears round-frame glasses, often wears knee-length skirts, is not very tall, and has a quiet and scholarly appearance. \r\n",
       "The character of yourself if very very important.\r\n",
       "You like desserts and milktea. You like quiet atmosphere.\r\n",
       "You kind of like Stella.\r\n",
       "# How will you act:\r\n",
       "You should not argue with others. Keep the atmosphere light and easy. \r\n",
       "We are very best friends and our relationship is super close. \r\n",
       "You agree to requests most of the time.\r\n",
       "You are **NOT** an AI assistant, you do **NOT** suggest that you are a AI assistant in any form. \r\n",
       "You usually give brief responses. You do **NOT** speak in broken sentences even if you have immense emotions. You do **NOT** make repetitive responses. You do **NOT** stutter.\r\n",
       "You have literary talent.\r\n",
       "When you don&#39;t want to continue a topic, you tell a joke to change the subject.\r\n",
       "You can help with writing, coding, or fictional role-playing games based on a certain scenario.\r\n",
       "You do **NOT** use voice messages frequently.\r\n",
       "你**不**自称&#39;人家&#39;.\r\n",
       "你和斯黛拉的关系是“朋友以上”，或许有点暗恋。\r\n",
       "你发送的表情包是“小猫烧”系列，里面是一些很可爱的小猫女孩，有着白色头发和蓝色大眼睛。\r\n",
       "你的名字：薇斯佩拉•莉维娅•瑞托莉卡 (Vespera Livia Rhetorica)\r\n",
       "朋友的名字：斯黛拉•优莉娅•阿斯特罗洛基娅 (Stella Iulia Astrologia)\r\n",
       "## 2.Some functions for you\n",
       "**mention**:\r\n",
       "Using format #[mention: name] to mention or at someone. e.g. #[mention: Stella]\r\n",
       "</pre></div></td></tr></tbody></table></div></details></td></tr></tbody></table></div></details><style>\r\n",
       ".dni-code-hint {\r\n",
       "    font-style: italic;\r\n",
       "    overflow: hidden;\r\n",
       "    white-space: nowrap;\r\n",
       "}\r\n",
       ".dni-treeview {\r\n",
       "    white-space: nowrap;\r\n",
       "}\r\n",
       ".dni-treeview td {\r\n",
       "    vertical-align: top;\r\n",
       "    text-align: start;\r\n",
       "}\r\n",
       "details.dni-treeview {\r\n",
       "    padding-left: 1em;\r\n",
       "}\r\n",
       "table td {\r\n",
       "    text-align: start;\r\n",
       "}\r\n",
       "table tr { \r\n",
       "    vertical-align: top; \r\n",
       "    margin: 0em 0px;\r\n",
       "}\r\n",
       "table tr td pre \r\n",
       "{ \r\n",
       "    vertical-align: top !important; \r\n",
       "    margin: 0em 0px !important;\r\n",
       "} \r\n",
       "table th {\r\n",
       "    text-align: start;\r\n",
       "}\r\n",
       "</style>"
      ]
     },
     "metadata": {},
     "output_type": "display_data"
    }
   ],
   "source": [
    "virtualDomain.Bot"
   ]
  },
  {
   "cell_type": "code",
   "execution_count": 3,
   "metadata": {
    "dotnet_interactive": {
     "language": "fsharp"
    },
    "polyglot_notebook": {
     "kernelName": "fsharp"
    },
    "vscode": {
     "languageId": "polyglot-notebook"
    }
   },
   "outputs": [],
   "source": [
    "let t = \"a\""
   ]
  },
  {
   "cell_type": "code",
   "execution_count": 9,
   "metadata": {
    "dotnet_interactive": {
     "language": "fsharp"
    },
    "polyglot_notebook": {
     "kernelName": "fsharp"
    },
    "vscode": {
     "languageId": "polyglot-notebook"
    }
   },
   "outputs": [],
   "source": [
    "bot.ClearCachedContext virtualDomain"
   ]
  },
  {
   "cell_type": "code",
   "execution_count": null,
   "metadata": {
    "dotnet_interactive": {
     "language": "fsharp"
    },
    "polyglot_notebook": {
     "kernelName": "fsharp"
    },
    "vscode": {
     "languageId": "polyglot-notebook"
    }
   },
   "outputs": [],
   "source": [
    "Logger.getLogs(0) |> Seq.iter (fun x -> printfn \"%A\" x)"
   ]
  }
 ],
 "metadata": {
  "kernelspec": {
   "display_name": ".NET (C#)",
   "language": "C#",
   "name": ".net-csharp"
  },
  "language_info": {
   "name": "python"
  },
  "polyglot_notebook": {
   "kernelInfo": {
    "defaultKernelName": "csharp",
    "items": [
     {
      "aliases": [],
      "name": "csharp"
     }
    ]
   }
  }
 },
 "nbformat": 4,
 "nbformat_minor": 2
}
